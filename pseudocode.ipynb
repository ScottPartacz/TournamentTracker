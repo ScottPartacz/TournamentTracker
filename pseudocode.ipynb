{
 "cells": [
  {
   "cell_type": "code",
   "execution_count": null,
   "metadata": {},
   "outputs": [],
   "source": [
    "welcome message\n",
    "\n",
    "input number of participants\n",
    "\n",
    "while(True):\n",
    "\n",
    "    menu:\n",
    "        1. Sign Up\n",
    "        2. Cancel Sign Up\n",
    "        3. View Participants\n",
    "        4. Save Changes\n",
    "        5. Exit exit()\n",
    "\n",
    "def sign_up:\n",
    "\n",
    "    input name\n",
    "    input slot\n",
    "\n",
    "    check if slot is filled\n",
    "        error mesg\n",
    "\n",
    "    success mesg\n",
    "\n",
    "def cancel_sign_up:\n",
    "\n",
    "    input name\n",
    "    input slot\n",
    "\n",
    "    check if name is in slot\n",
    "        error mesg\n",
    "\n",
    "    success mesg\n",
    "\n",
    "def view participants:\n",
    "\n",
    "    input slot\n",
    "\n",
    "    print +- 5 from the slot\n",
    "\n",
    "def save:\n",
    "    \n",
    "    input y/n\n",
    "\n",
    "    save into csv file\n"
   ]
  }
 ],
 "metadata": {
  "interpreter": {
   "hash": "aab2652dd422b8952e87837d88345d2dc429e222c6ab5d96b6e49515aa907270"
  },
  "kernelspec": {
   "display_name": "Python 3.9.7 64-bit ('base': conda)",
   "language": "python",
   "name": "python3"
  },
  "language_info": {
   "name": "python",
   "version": "3.9.7"
  },
  "orig_nbformat": 4
 },
 "nbformat": 4,
 "nbformat_minor": 2
}
