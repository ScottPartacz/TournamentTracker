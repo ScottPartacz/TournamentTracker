{
 "cells": [
  {
   "cell_type": "code",
   "execution_count": 2,
   "metadata": {},
   "outputs": [
    {
     "name": "stdout",
     "output_type": "stream",
     "text": [
      "Participant Menu\n",
      "================\n",
      "1. Sign Up\n",
      "2. Cancel Sign Up\n",
      "3. View Participants\n",
      "4. Save Changes\n",
      "5. Exit\n",
      "\n",
      "Goodbye!\n"
     ]
    }
   ],
   "source": [
    "import time\n",
    "\n",
    "def sign_up():\n",
    "    return (\"sign_up\")\n",
    "\n",
    "def cancel_sign_up():\n",
    "    return (\"cancel\")\n",
    "\n",
    "def view_participants():\n",
    "    return (\"view\")\n",
    "\n",
    "def save():\n",
    "    return (\"save\")\n",
    "\n",
    "\n",
    "while(True):\n",
    "\n",
    "    menuselection = 0\n",
    "\n",
    "    print(\"Participant Menu\")\n",
    "    print(\"================\")\n",
    "    print(\"1. Sign Up\")\n",
    "    print(\"2. Cancel Sign Up\")\n",
    "    print(\"3. View Participants\")\n",
    "    print(\"4. Save Changes\")\n",
    "    print(\"5. Exit\\n\")\n",
    "\n",
    "    time.sleep(1)\n",
    "    menuselection = input()\n",
    "\n",
    "    if menuselection == \"1\":\n",
    "        print(sign_up())\n",
    "    elif menuselection == \"2\":\n",
    "        print(cancel_sign_up())\n",
    "    elif menuselection == \"3\":\n",
    "        print(view_participants())\n",
    "    elif menuselection == \"4\":\n",
    "        print(save())\n",
    "    elif menuselection == \"5\":\n",
    "        break\n",
    "    \n",
    "          \n",
    "print(\"Goodbye!\")"
   ]
  }
 ],
 "metadata": {
  "interpreter": {
   "hash": "aab2652dd422b8952e87837d88345d2dc429e222c6ab5d96b6e49515aa907270"
  },
  "kernelspec": {
   "display_name": "Python 3.9.7 64-bit ('base': conda)",
   "language": "python",
   "name": "python3"
  },
  "language_info": {
   "codemirror_mode": {
    "name": "ipython",
    "version": 3
   },
   "file_extension": ".py",
   "mimetype": "text/x-python",
   "name": "python",
   "nbconvert_exporter": "python",
   "pygments_lexer": "ipython3",
   "version": "3.9.7"
  },
  "orig_nbformat": 4
 },
 "nbformat": 4,
 "nbformat_minor": 2
}
